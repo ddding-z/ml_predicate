{
 "cells": [
  {
   "cell_type": "code",
   "execution_count": 39,
   "metadata": {},
   "outputs": [],
   "source": [
    "result_file = 'result.csv'\n",
    "model = 'nyc-taxi-green-dec-2016_d10_l450_n899_20240903074159'"
   ]
  },
  {
   "cell_type": "code",
   "execution_count": 40,
   "metadata": {},
   "outputs": [
    {
     "data": {
      "text/html": [
       "<div>\n",
       "<style scoped>\n",
       "    .dataframe tbody tr th:only-of-type {\n",
       "        vertical-align: middle;\n",
       "    }\n",
       "\n",
       "    .dataframe tbody tr th {\n",
       "        vertical-align: top;\n",
       "    }\n",
       "\n",
       "    .dataframe thead th {\n",
       "        text-align: right;\n",
       "    }\n",
       "</style>\n",
       "<table border=\"1\" class=\"dataframe\">\n",
       "  <thead>\n",
       "    <tr style=\"text-align: right;\">\n",
       "      <th></th>\n",
       "      <th>model</th>\n",
       "      <th>pruned</th>\n",
       "      <th>predicate</th>\n",
       "      <th>data</th>\n",
       "      <th>scale</th>\n",
       "      <th>threads</th>\n",
       "      <th>time</th>\n",
       "    </tr>\n",
       "  </thead>\n",
       "  <tbody>\n",
       "    <tr>\n",
       "      <th>33</th>\n",
       "      <td>nyc-taxi-green-dec-2016_d10_l450_n899_20240903...</td>\n",
       "      <td>False</td>\n",
       "      <td>0.000000</td>\n",
       "      <td>nyc-taxi-green-dec-2016</td>\n",
       "      <td>1G</td>\n",
       "      <td>2</td>\n",
       "      <td>1.546171</td>\n",
       "    </tr>\n",
       "    <tr>\n",
       "      <th>34</th>\n",
       "      <td>nyc-taxi-green-dec-2016_d10_l450_n899_20240903...</td>\n",
       "      <td>True</td>\n",
       "      <td>0.420043</td>\n",
       "      <td>nyc-taxi-green-dec-2016</td>\n",
       "      <td>1G</td>\n",
       "      <td>2</td>\n",
       "      <td>1.404749</td>\n",
       "    </tr>\n",
       "    <tr>\n",
       "      <th>35</th>\n",
       "      <td>nyc-taxi-green-dec-2016_d10_l450_n899_20240903...</td>\n",
       "      <td>True</td>\n",
       "      <td>0.830135</td>\n",
       "      <td>nyc-taxi-green-dec-2016</td>\n",
       "      <td>1G</td>\n",
       "      <td>2</td>\n",
       "      <td>1.547628</td>\n",
       "    </tr>\n",
       "    <tr>\n",
       "      <th>36</th>\n",
       "      <td>nyc-taxi-green-dec-2016_d10_l450_n899_20240903...</td>\n",
       "      <td>True</td>\n",
       "      <td>1.240227</td>\n",
       "      <td>nyc-taxi-green-dec-2016</td>\n",
       "      <td>1G</td>\n",
       "      <td>2</td>\n",
       "      <td>1.478206</td>\n",
       "    </tr>\n",
       "    <tr>\n",
       "      <th>37</th>\n",
       "      <td>nyc-taxi-green-dec-2016_d10_l450_n899_20240903...</td>\n",
       "      <td>True</td>\n",
       "      <td>1.650320</td>\n",
       "      <td>nyc-taxi-green-dec-2016</td>\n",
       "      <td>1G</td>\n",
       "      <td>2</td>\n",
       "      <td>1.335123</td>\n",
       "    </tr>\n",
       "    <tr>\n",
       "      <th>38</th>\n",
       "      <td>nyc-taxi-green-dec-2016_d10_l450_n899_20240903...</td>\n",
       "      <td>True</td>\n",
       "      <td>2.060412</td>\n",
       "      <td>nyc-taxi-green-dec-2016</td>\n",
       "      <td>1G</td>\n",
       "      <td>2</td>\n",
       "      <td>1.288739</td>\n",
       "    </tr>\n",
       "    <tr>\n",
       "      <th>39</th>\n",
       "      <td>nyc-taxi-green-dec-2016_d10_l450_n899_20240903...</td>\n",
       "      <td>True</td>\n",
       "      <td>2.470504</td>\n",
       "      <td>nyc-taxi-green-dec-2016</td>\n",
       "      <td>1G</td>\n",
       "      <td>2</td>\n",
       "      <td>0.917531</td>\n",
       "    </tr>\n",
       "    <tr>\n",
       "      <th>40</th>\n",
       "      <td>nyc-taxi-green-dec-2016_d10_l450_n899_20240903...</td>\n",
       "      <td>True</td>\n",
       "      <td>2.880597</td>\n",
       "      <td>nyc-taxi-green-dec-2016</td>\n",
       "      <td>1G</td>\n",
       "      <td>2</td>\n",
       "      <td>0.958645</td>\n",
       "    </tr>\n",
       "    <tr>\n",
       "      <th>41</th>\n",
       "      <td>nyc-taxi-green-dec-2016_d10_l450_n899_20240903...</td>\n",
       "      <td>True</td>\n",
       "      <td>3.290689</td>\n",
       "      <td>nyc-taxi-green-dec-2016</td>\n",
       "      <td>1G</td>\n",
       "      <td>2</td>\n",
       "      <td>0.912614</td>\n",
       "    </tr>\n",
       "    <tr>\n",
       "      <th>42</th>\n",
       "      <td>nyc-taxi-green-dec-2016_d10_l450_n899_20240903...</td>\n",
       "      <td>True</td>\n",
       "      <td>3.700781</td>\n",
       "      <td>nyc-taxi-green-dec-2016</td>\n",
       "      <td>1G</td>\n",
       "      <td>2</td>\n",
       "      <td>0.919676</td>\n",
       "    </tr>\n",
       "    <tr>\n",
       "      <th>43</th>\n",
       "      <td>nyc-taxi-green-dec-2016_d10_l450_n899_20240903...</td>\n",
       "      <td>True</td>\n",
       "      <td>4.110874</td>\n",
       "      <td>nyc-taxi-green-dec-2016</td>\n",
       "      <td>1G</td>\n",
       "      <td>2</td>\n",
       "      <td>0.918790</td>\n",
       "    </tr>\n",
       "  </tbody>\n",
       "</table>\n",
       "</div>"
      ],
      "text/plain": [
       "                                                model  pruned  predicate  \\\n",
       "33  nyc-taxi-green-dec-2016_d10_l450_n899_20240903...   False   0.000000   \n",
       "34  nyc-taxi-green-dec-2016_d10_l450_n899_20240903...    True   0.420043   \n",
       "35  nyc-taxi-green-dec-2016_d10_l450_n899_20240903...    True   0.830135   \n",
       "36  nyc-taxi-green-dec-2016_d10_l450_n899_20240903...    True   1.240227   \n",
       "37  nyc-taxi-green-dec-2016_d10_l450_n899_20240903...    True   1.650320   \n",
       "38  nyc-taxi-green-dec-2016_d10_l450_n899_20240903...    True   2.060412   \n",
       "39  nyc-taxi-green-dec-2016_d10_l450_n899_20240903...    True   2.470504   \n",
       "40  nyc-taxi-green-dec-2016_d10_l450_n899_20240903...    True   2.880597   \n",
       "41  nyc-taxi-green-dec-2016_d10_l450_n899_20240903...    True   3.290689   \n",
       "42  nyc-taxi-green-dec-2016_d10_l450_n899_20240903...    True   3.700781   \n",
       "43  nyc-taxi-green-dec-2016_d10_l450_n899_20240903...    True   4.110874   \n",
       "\n",
       "                       data scale  threads      time  \n",
       "33  nyc-taxi-green-dec-2016    1G        2  1.546171  \n",
       "34  nyc-taxi-green-dec-2016    1G        2  1.404749  \n",
       "35  nyc-taxi-green-dec-2016    1G        2  1.547628  \n",
       "36  nyc-taxi-green-dec-2016    1G        2  1.478206  \n",
       "37  nyc-taxi-green-dec-2016    1G        2  1.335123  \n",
       "38  nyc-taxi-green-dec-2016    1G        2  1.288739  \n",
       "39  nyc-taxi-green-dec-2016    1G        2  0.917531  \n",
       "40  nyc-taxi-green-dec-2016    1G        2  0.958645  \n",
       "41  nyc-taxi-green-dec-2016    1G        2  0.912614  \n",
       "42  nyc-taxi-green-dec-2016    1G        2  0.919676  \n",
       "43  nyc-taxi-green-dec-2016    1G        2  0.918790  "
      ]
     },
     "execution_count": 40,
     "metadata": {},
     "output_type": "execute_result"
    }
   ],
   "source": [
    "import pandas as pd\n",
    "import numpy as np\n",
    "\n",
    "df = pd.read_csv(result_file)\n",
    "df = df[df['model'] == model]\n",
    "df"
   ]
  },
  {
   "cell_type": "code",
   "execution_count": 41,
   "metadata": {},
   "outputs": [
    {
     "data": {
      "text/plain": [
       "array([1.40474868, 1.54762824, 1.4782056 , 1.33512274, 1.2887392 ,\n",
       "       0.91753101, 0.95864463, 0.91261411, 0.91967551, 0.91878994])"
      ]
     },
     "execution_count": 41,
     "metadata": {},
     "output_type": "execute_result"
    }
   ],
   "source": [
    "data = df[df['pruned'] == False]['data'].values[0]\n",
    "threads = df[df['pruned'] == False]['threads'].values[0]\n",
    "scale = df[df['pruned'] == False]['scale'].values[0]\n",
    "\n",
    "\n",
    "base_line = df[df['pruned'] == False]['time'].values[0]\n",
    "x = df[df['pruned'] == True]['predicate'].values\n",
    "y = df[df['pruned'] == True]['time'].values\n",
    "y"
   ]
  },
  {
   "cell_type": "code",
   "execution_count": 42,
   "metadata": {},
   "outputs": [
    {
     "data": {
      "text/plain": [
       "(0.0, 1.579378950595856)"
      ]
     },
     "execution_count": 42,
     "metadata": {},
     "output_type": "execute_result"
    },
    {
     "data": {
      "image/png": "[encoded data removed]",
      "text/plain": [
       "<Figure size 640x480 with 1 Axes>"
      ]
     },
     "metadata": {},
     "output_type": "display_data"
    }
   ],
   "source": [
    "import matplotlib.pyplot as plt\n",
    "\n",
    "plt.plot(x, [base_line for _ in range(len(x))])\n",
    "plt.plot(x, y)\n",
    "plt.title(f'onnx with dataset {data} {scale}, threads {threads}')\n",
    "plt.ylabel('time (s)')\n",
    "plt.xlabel('$\\\\theta$ (predict > $\\\\theta$)')\n",
    "plt.ylim(0)"
   ]
  },
  {
   "cell_type": "code",
   "execution_count": 43,
   "metadata": {},
   "outputs": [
    {
     "data": {
      "text/plain": [
       "array([1.10067437, 0.99905832, 1.04597822, 1.15807395, 1.19975466,\n",
       "       1.6851429 , 1.61287178, 1.69422197, 1.68121349, 1.68283391])"
      ]
     },
     "execution_count": 43,
     "metadata": {},
     "output_type": "execute_result"
    }
   ],
   "source": [
    "base_line / y"
   ]
  },
  {
   "cell_type": "code",
   "execution_count": 44,
   "metadata": {},
   "outputs": [
    {
     "data": {
      "text/plain": [
       "(0.0, 1.7289801526208082)"
      ]
     },
     "execution_count": 44,
     "metadata": {},
     "output_type": "execute_result"
    },
    {
     "data": {
      "image/png": "[encoded data removed]",
      "text/plain": [
       "<Figure size 640x480 with 1 Axes>"
      ]
     },
     "metadata": {},
     "output_type": "display_data"
    }
   ],
   "source": [
    "plt.plot(x, [1 for _ in range(len(x))])\n",
    "plt.plot(x, base_line / y)\n",
    "plt.ylim(0)"
   ]
  }
 ],
 "metadata": {
  "kernelspec": {
   "display_name": "ml_predicate",
   "language": "python",
   "name": "python3"
  },
  "language_info": {
   "codemirror_mode": {
    "name": "ipython",
    "version": 3
   },
   "file_extension": ".py",
   "mimetype": "text/x-python",
   "name": "python",
   "nbconvert_exporter": "python",
   "pygments_lexer": "ipython3",
   "version": "3.10.14"
  }
 },
 "nbformat": 4,
 "nbformat_minor": 2
}
