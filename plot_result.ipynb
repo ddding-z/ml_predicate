{
 "cells": [
  {
   "cell_type": "code",
   "execution_count": 37,
   "metadata": {},
   "outputs": [],
   "source": [
    "result_file = 'result.csv'\n",
    "model = 'Ailerons_d10_l703_n1405_20240903085723'"
   ]
  },
  {
   "cell_type": "code",
   "execution_count": 38,
   "metadata": {},
   "outputs": [
    {
     "data": {
      "text/html": [
       "<div>\n",
       "<style scoped>\n",
       "    .dataframe tbody tr th:only-of-type {\n",
       "        vertical-align: middle;\n",
       "    }\n",
       "\n",
       "    .dataframe tbody tr th {\n",
       "        vertical-align: top;\n",
       "    }\n",
       "\n",
       "    .dataframe thead th {\n",
       "        text-align: right;\n",
       "    }\n",
       "</style>\n",
       "<table border=\"1\" class=\"dataframe\">\n",
       "  <thead>\n",
       "    <tr style=\"text-align: right;\">\n",
       "      <th></th>\n",
       "      <th>model</th>\n",
       "      <th>pruned</th>\n",
       "      <th>predicate</th>\n",
       "      <th>data</th>\n",
       "      <th>scale</th>\n",
       "      <th>threads</th>\n",
       "      <th>time</th>\n",
       "    </tr>\n",
       "  </thead>\n",
       "  <tbody>\n",
       "    <tr>\n",
       "      <th>188</th>\n",
       "      <td>Ailerons_d10_l703_n1405_20240903085723</td>\n",
       "      <td>False</td>\n",
       "      <td>0.00000</td>\n",
       "      <td>Ailerons</td>\n",
       "      <td>1G</td>\n",
       "      <td>4</td>\n",
       "      <td>0.627749</td>\n",
       "    </tr>\n",
       "    <tr>\n",
       "      <th>189</th>\n",
       "      <td>Ailerons_d10_l703_n1405_20240903085723</td>\n",
       "      <td>True</td>\n",
       "      <td>-0.00318</td>\n",
       "      <td>Ailerons</td>\n",
       "      <td>1G</td>\n",
       "      <td>4</td>\n",
       "      <td>0.616438</td>\n",
       "    </tr>\n",
       "    <tr>\n",
       "      <th>190</th>\n",
       "      <td>Ailerons_d10_l703_n1405_20240903085723</td>\n",
       "      <td>True</td>\n",
       "      <td>-0.00286</td>\n",
       "      <td>Ailerons</td>\n",
       "      <td>1G</td>\n",
       "      <td>4</td>\n",
       "      <td>0.561028</td>\n",
       "    </tr>\n",
       "    <tr>\n",
       "      <th>191</th>\n",
       "      <td>Ailerons_d10_l703_n1405_20240903085723</td>\n",
       "      <td>True</td>\n",
       "      <td>-0.00254</td>\n",
       "      <td>Ailerons</td>\n",
       "      <td>1G</td>\n",
       "      <td>4</td>\n",
       "      <td>0.558304</td>\n",
       "    </tr>\n",
       "    <tr>\n",
       "      <th>192</th>\n",
       "      <td>Ailerons_d10_l703_n1405_20240903085723</td>\n",
       "      <td>True</td>\n",
       "      <td>-0.00222</td>\n",
       "      <td>Ailerons</td>\n",
       "      <td>1G</td>\n",
       "      <td>4</td>\n",
       "      <td>0.571927</td>\n",
       "    </tr>\n",
       "    <tr>\n",
       "      <th>193</th>\n",
       "      <td>Ailerons_d10_l703_n1405_20240903085723</td>\n",
       "      <td>True</td>\n",
       "      <td>-0.00190</td>\n",
       "      <td>Ailerons</td>\n",
       "      <td>1G</td>\n",
       "      <td>4</td>\n",
       "      <td>0.655834</td>\n",
       "    </tr>\n",
       "    <tr>\n",
       "      <th>194</th>\n",
       "      <td>Ailerons_d10_l703_n1405_20240903085723</td>\n",
       "      <td>True</td>\n",
       "      <td>-0.00158</td>\n",
       "      <td>Ailerons</td>\n",
       "      <td>1G</td>\n",
       "      <td>4</td>\n",
       "      <td>0.571719</td>\n",
       "    </tr>\n",
       "    <tr>\n",
       "      <th>195</th>\n",
       "      <td>Ailerons_d10_l703_n1405_20240903085723</td>\n",
       "      <td>True</td>\n",
       "      <td>-0.00126</td>\n",
       "      <td>Ailerons</td>\n",
       "      <td>1G</td>\n",
       "      <td>4</td>\n",
       "      <td>0.583810</td>\n",
       "    </tr>\n",
       "    <tr>\n",
       "      <th>196</th>\n",
       "      <td>Ailerons_d10_l703_n1405_20240903085723</td>\n",
       "      <td>True</td>\n",
       "      <td>-0.00094</td>\n",
       "      <td>Ailerons</td>\n",
       "      <td>1G</td>\n",
       "      <td>4</td>\n",
       "      <td>0.583161</td>\n",
       "    </tr>\n",
       "    <tr>\n",
       "      <th>197</th>\n",
       "      <td>Ailerons_d10_l703_n1405_20240903085723</td>\n",
       "      <td>True</td>\n",
       "      <td>-0.00062</td>\n",
       "      <td>Ailerons</td>\n",
       "      <td>1G</td>\n",
       "      <td>4</td>\n",
       "      <td>0.577914</td>\n",
       "    </tr>\n",
       "    <tr>\n",
       "      <th>198</th>\n",
       "      <td>Ailerons_d10_l703_n1405_20240903085723</td>\n",
       "      <td>True</td>\n",
       "      <td>-0.00030</td>\n",
       "      <td>Ailerons</td>\n",
       "      <td>1G</td>\n",
       "      <td>4</td>\n",
       "      <td>0.563641</td>\n",
       "    </tr>\n",
       "  </tbody>\n",
       "</table>\n",
       "</div>"
      ],
      "text/plain": [
       "                                      model  pruned  predicate      data  \\\n",
       "188  Ailerons_d10_l703_n1405_20240903085723   False    0.00000  Ailerons   \n",
       "189  Ailerons_d10_l703_n1405_20240903085723    True   -0.00318  Ailerons   \n",
       "190  Ailerons_d10_l703_n1405_20240903085723    True   -0.00286  Ailerons   \n",
       "191  Ailerons_d10_l703_n1405_20240903085723    True   -0.00254  Ailerons   \n",
       "192  Ailerons_d10_l703_n1405_20240903085723    True   -0.00222  Ailerons   \n",
       "193  Ailerons_d10_l703_n1405_20240903085723    True   -0.00190  Ailerons   \n",
       "194  Ailerons_d10_l703_n1405_20240903085723    True   -0.00158  Ailerons   \n",
       "195  Ailerons_d10_l703_n1405_20240903085723    True   -0.00126  Ailerons   \n",
       "196  Ailerons_d10_l703_n1405_20240903085723    True   -0.00094  Ailerons   \n",
       "197  Ailerons_d10_l703_n1405_20240903085723    True   -0.00062  Ailerons   \n",
       "198  Ailerons_d10_l703_n1405_20240903085723    True   -0.00030  Ailerons   \n",
       "\n",
       "    scale  threads      time  \n",
       "188    1G        4  0.627749  \n",
       "189    1G        4  0.616438  \n",
       "190    1G        4  0.561028  \n",
       "191    1G        4  0.558304  \n",
       "192    1G        4  0.571927  \n",
       "193    1G        4  0.655834  \n",
       "194    1G        4  0.571719  \n",
       "195    1G        4  0.583810  \n",
       "196    1G        4  0.583161  \n",
       "197    1G        4  0.577914  \n",
       "198    1G        4  0.563641  "
      ]
     },
     "execution_count": 38,
     "metadata": {},
     "output_type": "execute_result"
    }
   ],
   "source": [
    "import pandas as pd\n",
    "import numpy as np\n",
    "\n",
    "df = pd.read_csv(result_file)\n",
    "df = df[df['model'] == model]\n",
    "df"
   ]
  },
  {
   "cell_type": "code",
   "execution_count": 39,
   "metadata": {},
   "outputs": [
    {
     "data": {
      "text/plain": [
       "array([0.61643831, 0.56102808, 0.55830352, 0.57192739, 0.65583428,\n",
       "       0.57171933, 0.58381009, 0.58316072, 0.57791352, 0.56364083])"
      ]
     },
     "execution_count": 39,
     "metadata": {},
     "output_type": "execute_result"
    }
   ],
   "source": [
    "base_line = df[df['pruned'] == False]['time'].values[0]\n",
    "x = df[df['pruned'] == True]['predicate'].values\n",
    "y = df[df['pruned'] == True]['time'].values\n",
    "y"
   ]
  },
  {
   "cell_type": "code",
   "execution_count": 40,
   "metadata": {},
   "outputs": [
    {
     "data": {
      "text/plain": [
       "(0.0, 0.6607108155886332)"
      ]
     },
     "execution_count": 40,
     "metadata": {},
     "output_type": "execute_result"
    },
    {
     "data": {
      "image/png": "[encoded data removed]",
      "text/plain": [
       "<Figure size 640x480 with 1 Axes>"
      ]
     },
     "metadata": {},
     "output_type": "display_data"
    }
   ],
   "source": [
    "import matplotlib.pyplot as plt\n",
    "\n",
    "plt.plot(x, [base_line for _ in range(len(x))])\n",
    "plt.plot(x, y)\n",
    "plt.ylim(0)"
   ]
  },
  {
   "cell_type": "code",
   "execution_count": 41,
   "metadata": {},
   "outputs": [
    {
     "data": {
      "text/plain": [
       "(0.0, 1.132747646412081)"
      ]
     },
     "execution_count": 41,
     "metadata": {},
     "output_type": "execute_result"
    },
    {
     "data": {
      "image/png": "[encoded data removed]",
      "text/plain": [
       "<Figure size 640x480 with 1 Axes>"
      ]
     },
     "metadata": {},
     "output_type": "display_data"
    }
   ],
   "source": [
    "plt.plot(x, [1 for _ in range(len(x))])\n",
    "plt.plot(x, base_line / y)\n",
    "plt.ylim(0)"
   ]
  }
 ],
 "metadata": {
  "kernelspec": {
   "display_name": "ml_predicate",
   "language": "python",
   "name": "python3"
  },
  "language_info": {
   "codemirror_mode": {
    "name": "ipython",
    "version": 3
   },
   "file_extension": ".py",
   "mimetype": "text/x-python",
   "name": "python",
   "nbconvert_exporter": "python",
   "pygments_lexer": "ipython3",
   "version": "3.10.14"
  }
 },
 "nbformat": 4,
 "nbformat_minor": 2
}
