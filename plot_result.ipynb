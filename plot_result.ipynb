{
 "cells": [
  {
   "cell_type": "code",
   "execution_count": 21,
   "metadata": {},
   "outputs": [],
   "source": [
    "result_file = 'result.csv'\n",
    "model = 'nyc-taxi-green-dec-2016_d10_l451_n901_20240903075032'"
   ]
  },
  {
   "cell_type": "code",
   "execution_count": 22,
   "metadata": {},
   "outputs": [
    {
     "data": {
      "text/html": [
       "<div>\n",
       "<style scoped>\n",
       "    .dataframe tbody tr th:only-of-type {\n",
       "        vertical-align: middle;\n",
       "    }\n",
       "\n",
       "    .dataframe tbody tr th {\n",
       "        vertical-align: top;\n",
       "    }\n",
       "\n",
       "    .dataframe thead th {\n",
       "        text-align: right;\n",
       "    }\n",
       "</style>\n",
       "<table border=\"1\" class=\"dataframe\">\n",
       "  <thead>\n",
       "    <tr style=\"text-align: right;\">\n",
       "      <th></th>\n",
       "      <th>model</th>\n",
       "      <th>pruned</th>\n",
       "      <th>predicate</th>\n",
       "      <th>data</th>\n",
       "      <th>scale</th>\n",
       "      <th>threads</th>\n",
       "      <th>time</th>\n",
       "    </tr>\n",
       "  </thead>\n",
       "  <tbody>\n",
       "    <tr>\n",
       "      <th>55</th>\n",
       "      <td>nyc-taxi-green-dec-2016_d10_l451_n901_20240903...</td>\n",
       "      <td>False</td>\n",
       "      <td>0.000000</td>\n",
       "      <td>nyc-taxi-green-dec-2016</td>\n",
       "      <td>1G</td>\n",
       "      <td>1</td>\n",
       "      <td>2.333855</td>\n",
       "    </tr>\n",
       "    <tr>\n",
       "      <th>56</th>\n",
       "      <td>nyc-taxi-green-dec-2016_d10_l451_n901_20240903...</td>\n",
       "      <td>True</td>\n",
       "      <td>0.420043</td>\n",
       "      <td>nyc-taxi-green-dec-2016</td>\n",
       "      <td>1G</td>\n",
       "      <td>1</td>\n",
       "      <td>2.078266</td>\n",
       "    </tr>\n",
       "    <tr>\n",
       "      <th>57</th>\n",
       "      <td>nyc-taxi-green-dec-2016_d10_l451_n901_20240903...</td>\n",
       "      <td>True</td>\n",
       "      <td>0.830135</td>\n",
       "      <td>nyc-taxi-green-dec-2016</td>\n",
       "      <td>1G</td>\n",
       "      <td>1</td>\n",
       "      <td>2.254025</td>\n",
       "    </tr>\n",
       "    <tr>\n",
       "      <th>58</th>\n",
       "      <td>nyc-taxi-green-dec-2016_d10_l451_n901_20240903...</td>\n",
       "      <td>True</td>\n",
       "      <td>1.240227</td>\n",
       "      <td>nyc-taxi-green-dec-2016</td>\n",
       "      <td>1G</td>\n",
       "      <td>1</td>\n",
       "      <td>1.975926</td>\n",
       "    </tr>\n",
       "    <tr>\n",
       "      <th>59</th>\n",
       "      <td>nyc-taxi-green-dec-2016_d10_l451_n901_20240903...</td>\n",
       "      <td>True</td>\n",
       "      <td>1.650320</td>\n",
       "      <td>nyc-taxi-green-dec-2016</td>\n",
       "      <td>1G</td>\n",
       "      <td>1</td>\n",
       "      <td>1.735229</td>\n",
       "    </tr>\n",
       "    <tr>\n",
       "      <th>60</th>\n",
       "      <td>nyc-taxi-green-dec-2016_d10_l451_n901_20240903...</td>\n",
       "      <td>True</td>\n",
       "      <td>2.060412</td>\n",
       "      <td>nyc-taxi-green-dec-2016</td>\n",
       "      <td>1G</td>\n",
       "      <td>1</td>\n",
       "      <td>1.664395</td>\n",
       "    </tr>\n",
       "    <tr>\n",
       "      <th>61</th>\n",
       "      <td>nyc-taxi-green-dec-2016_d10_l451_n901_20240903...</td>\n",
       "      <td>True</td>\n",
       "      <td>2.470504</td>\n",
       "      <td>nyc-taxi-green-dec-2016</td>\n",
       "      <td>1G</td>\n",
       "      <td>1</td>\n",
       "      <td>1.191921</td>\n",
       "    </tr>\n",
       "    <tr>\n",
       "      <th>62</th>\n",
       "      <td>nyc-taxi-green-dec-2016_d10_l451_n901_20240903...</td>\n",
       "      <td>True</td>\n",
       "      <td>2.880597</td>\n",
       "      <td>nyc-taxi-green-dec-2016</td>\n",
       "      <td>1G</td>\n",
       "      <td>1</td>\n",
       "      <td>1.181626</td>\n",
       "    </tr>\n",
       "    <tr>\n",
       "      <th>63</th>\n",
       "      <td>nyc-taxi-green-dec-2016_d10_l451_n901_20240903...</td>\n",
       "      <td>True</td>\n",
       "      <td>3.290689</td>\n",
       "      <td>nyc-taxi-green-dec-2016</td>\n",
       "      <td>1G</td>\n",
       "      <td>1</td>\n",
       "      <td>1.128755</td>\n",
       "    </tr>\n",
       "    <tr>\n",
       "      <th>64</th>\n",
       "      <td>nyc-taxi-green-dec-2016_d10_l451_n901_20240903...</td>\n",
       "      <td>True</td>\n",
       "      <td>3.700781</td>\n",
       "      <td>nyc-taxi-green-dec-2016</td>\n",
       "      <td>1G</td>\n",
       "      <td>1</td>\n",
       "      <td>1.123181</td>\n",
       "    </tr>\n",
       "    <tr>\n",
       "      <th>65</th>\n",
       "      <td>nyc-taxi-green-dec-2016_d10_l451_n901_20240903...</td>\n",
       "      <td>True</td>\n",
       "      <td>4.110874</td>\n",
       "      <td>nyc-taxi-green-dec-2016</td>\n",
       "      <td>1G</td>\n",
       "      <td>1</td>\n",
       "      <td>1.126248</td>\n",
       "    </tr>\n",
       "  </tbody>\n",
       "</table>\n",
       "</div>"
      ],
      "text/plain": [
       "                                                model  pruned  predicate  \\\n",
       "55  nyc-taxi-green-dec-2016_d10_l451_n901_20240903...   False   0.000000   \n",
       "56  nyc-taxi-green-dec-2016_d10_l451_n901_20240903...    True   0.420043   \n",
       "57  nyc-taxi-green-dec-2016_d10_l451_n901_20240903...    True   0.830135   \n",
       "58  nyc-taxi-green-dec-2016_d10_l451_n901_20240903...    True   1.240227   \n",
       "59  nyc-taxi-green-dec-2016_d10_l451_n901_20240903...    True   1.650320   \n",
       "60  nyc-taxi-green-dec-2016_d10_l451_n901_20240903...    True   2.060412   \n",
       "61  nyc-taxi-green-dec-2016_d10_l451_n901_20240903...    True   2.470504   \n",
       "62  nyc-taxi-green-dec-2016_d10_l451_n901_20240903...    True   2.880597   \n",
       "63  nyc-taxi-green-dec-2016_d10_l451_n901_20240903...    True   3.290689   \n",
       "64  nyc-taxi-green-dec-2016_d10_l451_n901_20240903...    True   3.700781   \n",
       "65  nyc-taxi-green-dec-2016_d10_l451_n901_20240903...    True   4.110874   \n",
       "\n",
       "                       data scale  threads      time  \n",
       "55  nyc-taxi-green-dec-2016    1G        1  2.333855  \n",
       "56  nyc-taxi-green-dec-2016    1G        1  2.078266  \n",
       "57  nyc-taxi-green-dec-2016    1G        1  2.254025  \n",
       "58  nyc-taxi-green-dec-2016    1G        1  1.975926  \n",
       "59  nyc-taxi-green-dec-2016    1G        1  1.735229  \n",
       "60  nyc-taxi-green-dec-2016    1G        1  1.664395  \n",
       "61  nyc-taxi-green-dec-2016    1G        1  1.191921  \n",
       "62  nyc-taxi-green-dec-2016    1G        1  1.181626  \n",
       "63  nyc-taxi-green-dec-2016    1G        1  1.128755  \n",
       "64  nyc-taxi-green-dec-2016    1G        1  1.123181  \n",
       "65  nyc-taxi-green-dec-2016    1G        1  1.126248  "
      ]
     },
     "execution_count": 22,
     "metadata": {},
     "output_type": "execute_result"
    }
   ],
   "source": [
    "import pandas as pd\n",
    "import numpy as np\n",
    "\n",
    "df = pd.read_csv(result_file)\n",
    "df = df[df['model'] == model]\n",
    "df"
   ]
  },
  {
   "cell_type": "code",
   "execution_count": 23,
   "metadata": {},
   "outputs": [
    {
     "data": {
      "text/plain": [
       "array([2.07826567, 2.25402474, 1.97592624, 1.73522886, 1.66439501,\n",
       "       1.19192052, 1.18162592, 1.12875549, 1.12318055, 1.12624844])"
      ]
     },
     "execution_count": 23,
     "metadata": {},
     "output_type": "execute_result"
    }
   ],
   "source": [
    "base_line = df[df['pruned'] == False]['time'].values[0]\n",
    "x = df[df['pruned'] == True]['predicate'].values\n",
    "y = df[df['pruned'] == True]['time'].values\n",
    "y"
   ]
  },
  {
   "cell_type": "code",
   "execution_count": 24,
   "metadata": {},
   "outputs": [
    {
     "data": {
      "text/plain": [
       "(0.0, 2.394389049212138)"
      ]
     },
     "execution_count": 24,
     "metadata": {},
     "output_type": "execute_result"
    },
    {
     "data": {
      "image/png": "[encoded data removed]",
      "text/plain": [
       "<Figure size 640x480 with 1 Axes>"
      ]
     },
     "metadata": {},
     "output_type": "display_data"
    }
   ],
   "source": [
    "import matplotlib.pyplot as plt\n",
    "\n",
    "plt.plot(x, [base_line for _ in range(len(x))])\n",
    "plt.plot(x, y)\n",
    "plt.ylim(0)"
   ]
  },
  {
   "cell_type": "code",
   "execution_count": 25,
   "metadata": {},
   "outputs": [
    {
     "data": {
      "text/plain": [
       "(0.0, 2.131793550671406)"
      ]
     },
     "execution_count": 25,
     "metadata": {},
     "output_type": "execute_result"
    },
    {
     "data": {
      "image/png": "[encoded data removed]",
      "text/plain": [
       "<Figure size 640x480 with 1 Axes>"
      ]
     },
     "metadata": {},
     "output_type": "display_data"
    }
   ],
   "source": [
    "plt.plot(x, [1 for _ in range(len(x))])\n",
    "plt.plot(x, base_line / y)\n",
    "plt.ylim(0)"
   ]
  }
 ],
 "metadata": {
  "kernelspec": {
   "display_name": "ml_predicate",
   "language": "python",
   "name": "python3"
  },
  "language_info": {
   "codemirror_mode": {
    "name": "ipython",
    "version": 3
   },
   "file_extension": ".py",
   "mimetype": "text/x-python",
   "name": "python",
   "nbconvert_exporter": "python",
   "pygments_lexer": "ipython3",
   "version": "3.10.14"
  }
 },
 "nbformat": 4,
 "nbformat_minor": 2
}
